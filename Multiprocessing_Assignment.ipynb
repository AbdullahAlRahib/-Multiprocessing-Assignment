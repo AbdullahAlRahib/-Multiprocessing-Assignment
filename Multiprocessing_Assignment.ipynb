{
  "nbformat": 4,
  "nbformat_minor": 0,
  "metadata": {
    "colab": {
      "provenance": []
    },
    "kernelspec": {
      "name": "python3",
      "display_name": "Python 3"
    },
    "language_info": {
      "name": "python"
    }
  },
  "cells": [
    {
      "cell_type": "markdown",
      "source": [
        "# **Q1**\n",
        "\n",
        "**What is multiprocessing in python? Why is it useful?**\n",
        "\n",
        "**Answer:**\n",
        "\n",
        "Multiprocessing in Python is a built-in package that allows the system to run multiple processes simultaneously. It will enable the breaking of applications into smaller threads that can run independently.\n",
        "\n",
        " This can be useful for a variety of tasks, such as:\n",
        "* Parallelizing CPU-intensive tasks.\n",
        "*Bundling I/O-bound tasks.\n",
        "*Breaking down large tasks.\n",
        "*Increased performance.\n",
        "*Improved scalability.\n",
        "*Improved fault tolerance.\n",
        "*Synchronization: It can be difficult to synchronize access to shared data between multiple processes.\n",
        "*Communication: It can be difficult to communicate between multiple processes.\n",
        "*Memory management: It can be difficult to manage memory usage between multiple processes."
      ],
      "metadata": {
        "id": "0nN8oOPHcJoN"
      }
    },
    {
      "cell_type": "markdown",
      "source": [
        "# **Q2**\n",
        "\n",
        "**What are the differences between multiprocessing and multithreading?**\n",
        "\n",
        "**Answer:**\n",
        "\n",
        "\n",
        "Multiprocessing and multithreading are both techniques for improving the performance of a program by allowing it to run multiple tasks simultaneously. However, there are some key differences between the two techniques.\n",
        "\n",
        "* Multiprocessing involves running multiple processes at the same time. Each process has its own memory space and its own thread of execution. This means that processes can not share data or access each other's memory directly. However, they can communicate with each other through shared memory or through message passing.\n",
        "\n",
        "* Multithreading involves running multiple threads within a single process. Threads share the same memory space and the same thread of execution, but they have their own stack. This means that threads can share data and access each other's memory directly. However, they need to be careful to avoid race conditions, which can occur when two threads try to access the same data at the same time.\n",
        "\n",
        "Here are some examples of when you might use multiprocessing:\n",
        "\n",
        "* Running multiple simulations at the same time\n",
        "* Processing large amounts of data in parallel\n",
        "* Running multiple web servers on a single machine\n",
        "\n",
        "Here are some examples of when you might use multithreading:\n",
        "\n",
        "* Processing user input in real time\n",
        "* Downloading multiple files at the same time\n",
        "* Rendering a complex 3D scene"
      ],
      "metadata": {
        "id": "B03jhNgtcUTQ"
      }
    },
    {
      "cell_type": "markdown",
      "source": [
        "# **Q3**\n",
        "\n",
        "**Write a python code to create a process using the multiprocessing module.**\n",
        "\n",
        "**Answer:**"
      ],
      "metadata": {
        "id": "zv4ERfdCcVO0"
      }
    },
    {
      "cell_type": "code",
      "source": [
        "import multiprocessing\n",
        "\n",
        "def square(number):\n",
        "    print(number * number)\n",
        "\n",
        "if __name__ == \"__main__\":\n",
        "    p = multiprocessing.Process(target=square, args=(5,))\n",
        "    p.start()\n",
        "    p.join()"
      ],
      "metadata": {
        "colab": {
          "base_uri": "https://localhost:8080/"
        },
        "id": "d-zc3tT0fHe0",
        "outputId": "f898be61-0bad-4ded-8494-17ce271f2e61"
      },
      "execution_count": null,
      "outputs": [
        {
          "output_type": "stream",
          "name": "stdout",
          "text": [
            "25\n"
          ]
        }
      ]
    },
    {
      "cell_type": "markdown",
      "source": [
        "# **Q4**\n",
        "\n",
        "**What is a multiprocessing pool in python? Why is it used?**\n",
        "\n",
        "**Answer:**\n",
        "\n",
        "Python multiprocessing Pool can be used for parallel execution of a function across multiple input values, distributing the input data across processes (data parallelism).\n",
        "\n",
        "A multiprocessing pool in Python is a tool that allows you to run multiple processes in parallel. This can be useful for speeding up the execution of your program by running tasks in parallel.\n",
        "\n",
        "Here are some of the benefits of using a multiprocessing pool in Python:\n",
        "\n",
        "* Increased performance. A multiprocessing pool can improve the performance of your program by running tasks in parallel. This can be especially beneficial for CPU-intensive tasks.\n",
        "* Improved scalability. A multiprocessing pool can make your program more scalable by allowing it to take advantage of multiple processors or cores.\n",
        "* Improved fault tolerance. If one process fails, the other processes in the pool will continue to run. This can help to prevent your program from crashing."
      ],
      "metadata": {
        "id": "liCQbUQqcWEO"
      }
    },
    {
      "cell_type": "markdown",
      "source": [
        "\n",
        "# **Q5**\n",
        "\n",
        "**How can we create a pool of worker processes in python using the multiprocessing module?**\n",
        "\n",
        "**Answer:**"
      ],
      "metadata": {
        "id": "_xz9rQ_GcXC5"
      }
    },
    {
      "cell_type": "code",
      "source": [
        "import multiprocessing\n",
        "\n",
        "def square(number):\n",
        "    print(number * number)\n",
        "\n",
        "if __name__ == \"__main__\":\n",
        "    pool = multiprocessing.Pool(processes=4)\n",
        "    results = pool.map(square, range(10))\n",
        "    for result in results:\n",
        "        print(result)"
      ],
      "metadata": {
        "id": "0ujB8KXxjFH6"
      },
      "execution_count": null,
      "outputs": []
    },
    {
      "cell_type": "markdown",
      "source": [
        "This code first imports the multiprocessing module. Then, it defines a function called square that takes an integer as input and prints the square of that integer. The square function is a simple function that does not need to share any data with the main process.\n",
        "\n",
        "The next part of the code creates a pool of worker processes. The Pool class in the multiprocessing module represents a pool of processes. The Pool object is created by calling the Pool constructor with the processes argument, which specifies the number of processes that will be created in the pool. In this case, the processes argument is set to 4, which means that 4 worker processes will be created.\n",
        "\n",
        "The next part of the code submits tasks to the pool. The map() method in the Pool object can be used to submit a list of tasks to the pool. In this case, the map() method is used to submit the list of numbers from 1 to 10 to the pool.\n",
        "\n",
        "The map() method will call the square() function on each number in the list and print the result. The map() method will then return a list of the results of the tasks that have been submitted to the pool.\n",
        "\n",
        "The next part of the code gets the results of the tasks that have been submitted to the pool. The get() method in the Pool object can be used to get the result of a single task. In this case, the get() method is used to get the results of all of the tasks that have been submitted to the pool.\n",
        "\n",
        "The last part of the code prints the results. The results of the tasks are printed to the console."
      ],
      "metadata": {
        "id": "ueIDGmWOjPrc"
      }
    },
    {
      "cell_type": "markdown",
      "source": [
        "# **Q6**\n",
        "\n",
        "**Write a python program to create 4 processes, each process should print a different number using the\n",
        "multiprocessing module in python.**\n",
        "\n",
        "**Answer:**"
      ],
      "metadata": {
        "id": "ZRnV_5DocarR"
      }
    },
    {
      "cell_type": "code",
      "source": [
        "import multiprocessing\n",
        "\n",
        "def print_number(number):\n",
        "    print(number)\n",
        "\n",
        "if __name__ == \"__main__\":\n",
        "    processes = []\n",
        "    for i in range(4):\n",
        "        process = multiprocessing.Process(target=print_number, args=(i,))\n",
        "        processes.append(process)\n",
        "\n",
        "\n",
        "    for process in processes:\n",
        "        process.start()\n",
        "\n",
        "\n",
        "    for process in processes:\n",
        "        process.join()\n"
      ],
      "metadata": {
        "id": "3e8CahkicbQ1",
        "colab": {
          "base_uri": "https://localhost:8080/"
        },
        "outputId": "7bcdd964-ed7a-45b1-8c4e-cd5eaad6fcaf"
      },
      "execution_count": null,
      "outputs": [
        {
          "output_type": "stream",
          "name": "stdout",
          "text": [
            "0\n",
            "1\n",
            "2\n",
            "3\n"
          ]
        }
      ]
    }
  ]
}